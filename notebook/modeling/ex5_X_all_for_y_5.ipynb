{
 "cells": [
  {
   "cell_type": "code",
   "execution_count": 1,
   "id": "0312677c",
   "metadata": {},
   "outputs": [],
   "source": [
    "\n",
    "import numpy as np\n",
    "import pandas as pd\n",
    "import tensorflow as tf\n",
    "\n",
    "from sklearn.metrics import accuracy_score\n",
    "from sklearn.preprocessing import MinMaxScaler\n",
    "from tensorflow.keras import layers\n",
    "from tensorflow.keras.callbacks import EarlyStopping\n",
    "from tensorflow.keras.utils import to_categorical\n"
   ]
  },
  {
   "cell_type": "code",
   "execution_count": 2,
   "id": "8f0284d0-eaad-469d-9c57-b2efe86bdfeb",
   "metadata": {},
   "outputs": [],
   "source": [
    "import sys\n",
    "sys.path.insert(0, '../../')   # для обращения к родительской директории\n",
    "\n",
    "#from notebook.utils import create_sliding_window, restore_labels"
   ]
  },
  {
   "cell_type": "code",
   "execution_count": 30,
   "id": "83ba4b7c",
   "metadata": {},
   "outputs": [],
   "source": [
    "# должны быть четные числа:\n",
    "window_size = 30\n",
    "shift=4\n",
    "\n",
    "def create_sliding_window(X, y=None, window_size=40, shift=1):\n",
    "    \"\"\"\n",
    "    Создает набор данных с окнами, скользящими по временному ряду.\n",
    "\n",
    "    Аргументы:\n",
    "    X - временной ряд, y - метки\n",
    "    window_size - размер окна\n",
    "    shift - сдвиг окна\n",
    "\n",
    "    Возвращает кортеж: временной массив с окнами,\n",
    "    массив с метками для каждого окна\n",
    "    \"\"\"\n",
    "\n",
    "    dataset, labels = [], []\n",
    "\n",
    "    for i in range(0, len(X) - window_size, shift):\n",
    "        X_window = X[i:(i + window_size)]\n",
    "        dataset.append(X_window)\n",
    "\n",
    "        if y is not None:\n",
    "            y_window = y[i:(i + window_size)]\n",
    "            max_label = np.argmax(np.bincount(y_window, minlength=3))\n",
    "            labels.append(max_label)\n",
    "\n",
    "    return np.array(dataset), np.array(labels) if y is not None else None\n"
   ]
  },
  {
   "cell_type": "code",
   "execution_count": 4,
   "id": "516962df",
   "metadata": {},
   "outputs": [],
   "source": [
    "early_stop = EarlyStopping(monitor='val_loss', patience=5)"
   ]
  },
  {
   "cell_type": "code",
   "execution_count": null,
   "id": "46b70925",
   "metadata": {},
   "outputs": [],
   "source": []
  },
  {
   "cell_type": "code",
   "execution_count": 5,
   "id": "b7316f2b",
   "metadata": {},
   "outputs": [],
   "source": [
    "#ЭКСГАУСТЕР №5\n",
    "\n",
    "X_columns = [\n",
    "       'ЭКСГАУСТЕР 5. ВИБРАЦИЯ НА ОПОРЕ 1',\n",
    "       'ЭКСГАУСТЕР 5. ВИБРАЦИЯ НА ОПОРЕ 2',\n",
    "       'ЭКСГАУСТЕР 5. ВИБРАЦИЯ НА ОПОРЕ 3',\n",
    "       'ЭКСГАУСТЕР 5. ВИБРАЦИЯ НА ОПОРЕ 3. ПРОДОЛЬНАЯ.',\n",
    "       'ЭКСГАУСТЕР 5. ВИБРАЦИЯ НА ОПОРЕ 4',\n",
    "       'ЭКСГАУСТЕР 5. ВИБРАЦИЯ НА ОПОРЕ 4. ПРОДОЛЬНАЯ.']"
   ]
  },
  {
   "cell_type": "code",
   "execution_count": 6,
   "id": "c2c97899",
   "metadata": {},
   "outputs": [],
   "source": [
    "X = pd.read_parquet('../../data/processed/ex5_M3_X_all_for_y_5.parquet', columns=X_columns)\n",
    "X_test = pd.read_parquet('../../data/X_test.parquet', columns=X_columns)\n",
    "y = pd.read_parquet('../../data/processed/ex5_M3_y_5.parquet')"
   ]
  },
  {
   "cell_type": "code",
   "execution_count": 7,
   "id": "8a328728-ba72-4603-bb2c-22751f82ba9e",
   "metadata": {},
   "outputs": [
    {
     "data": {
      "text/html": [
       "<div>\n",
       "<style scoped>\n",
       "    .dataframe tbody tr th:only-of-type {\n",
       "        vertical-align: middle;\n",
       "    }\n",
       "\n",
       "    .dataframe tbody tr th {\n",
       "        vertical-align: top;\n",
       "    }\n",
       "\n",
       "    .dataframe thead th {\n",
       "        text-align: right;\n",
       "    }\n",
       "</style>\n",
       "<table border=\"1\" class=\"dataframe\">\n",
       "  <thead>\n",
       "    <tr style=\"text-align: right;\">\n",
       "      <th></th>\n",
       "      <th>ЭКСГАУСТЕР 4. ВИБРАЦИЯ НА ОПОРЕ 1</th>\n",
       "      <th>ЭКСГАУСТЕР 4. ВИБРАЦИЯ НА ОПОРЕ 2</th>\n",
       "      <th>ЭКСГАУСТЕР 4. ВИБРАЦИЯ НА ОПОРЕ 3</th>\n",
       "      <th>ЭКСГАУСТЕР 4. ВИБРАЦИЯ НА ОПОРЕ 3. ПРОДОЛЬНАЯ.</th>\n",
       "      <th>ЭКСГАУСТЕР 4. ВИБРАЦИЯ НА ОПОРЕ 4</th>\n",
       "      <th>ЭКСГАУСТЕР 4. ВИБРАЦИЯ НА ОПОРЕ 4. ПРОДОЛЬНАЯ.</th>\n",
       "    </tr>\n",
       "    <tr>\n",
       "      <th>DT</th>\n",
       "      <th></th>\n",
       "      <th></th>\n",
       "      <th></th>\n",
       "      <th></th>\n",
       "      <th></th>\n",
       "      <th></th>\n",
       "    </tr>\n",
       "  </thead>\n",
       "  <tbody>\n",
       "    <tr>\n",
       "      <th>2019-01-16 13:21:00</th>\n",
       "      <td>1.600000</td>\n",
       "      <td>0.760000</td>\n",
       "      <td>0.670000</td>\n",
       "      <td>1.63000</td>\n",
       "      <td>3.45</td>\n",
       "      <td>0.740000</td>\n",
       "    </tr>\n",
       "    <tr>\n",
       "      <th>2019-01-16 13:21:10</th>\n",
       "      <td>1.572917</td>\n",
       "      <td>0.751736</td>\n",
       "      <td>0.642361</td>\n",
       "      <td>1.55816</td>\n",
       "      <td>3.47</td>\n",
       "      <td>0.734375</td>\n",
       "    </tr>\n",
       "    <tr>\n",
       "      <th>2019-01-16 13:21:20</th>\n",
       "      <td>1.553819</td>\n",
       "      <td>0.735918</td>\n",
       "      <td>0.638503</td>\n",
       "      <td>1.58179</td>\n",
       "      <td>2.90</td>\n",
       "      <td>0.748457</td>\n",
       "    </tr>\n",
       "  </tbody>\n",
       "</table>\n",
       "</div>"
      ],
      "text/plain": [
       "                     ЭКСГАУСТЕР 4. ВИБРАЦИЯ НА ОПОРЕ 1   \n",
       "DT                                                       \n",
       "2019-01-16 13:21:00                           1.600000  \\\n",
       "2019-01-16 13:21:10                           1.572917   \n",
       "2019-01-16 13:21:20                           1.553819   \n",
       "\n",
       "                     ЭКСГАУСТЕР 4. ВИБРАЦИЯ НА ОПОРЕ 2   \n",
       "DT                                                       \n",
       "2019-01-16 13:21:00                           0.760000  \\\n",
       "2019-01-16 13:21:10                           0.751736   \n",
       "2019-01-16 13:21:20                           0.735918   \n",
       "\n",
       "                     ЭКСГАУСТЕР 4. ВИБРАЦИЯ НА ОПОРЕ 3   \n",
       "DT                                                       \n",
       "2019-01-16 13:21:00                           0.670000  \\\n",
       "2019-01-16 13:21:10                           0.642361   \n",
       "2019-01-16 13:21:20                           0.638503   \n",
       "\n",
       "                     ЭКСГАУСТЕР 4. ВИБРАЦИЯ НА ОПОРЕ 3. ПРОДОЛЬНАЯ.   \n",
       "DT                                                                    \n",
       "2019-01-16 13:21:00                                         1.63000  \\\n",
       "2019-01-16 13:21:10                                         1.55816   \n",
       "2019-01-16 13:21:20                                         1.58179   \n",
       "\n",
       "                     ЭКСГАУСТЕР 4. ВИБРАЦИЯ НА ОПОРЕ 4   \n",
       "DT                                                       \n",
       "2019-01-16 13:21:00                               3.45  \\\n",
       "2019-01-16 13:21:10                               3.47   \n",
       "2019-01-16 13:21:20                               2.90   \n",
       "\n",
       "                     ЭКСГАУСТЕР 4. ВИБРАЦИЯ НА ОПОРЕ 4. ПРОДОЛЬНАЯ.  \n",
       "DT                                                                   \n",
       "2019-01-16 13:21:00                                        0.740000  \n",
       "2019-01-16 13:21:10                                        0.734375  \n",
       "2019-01-16 13:21:20                                        0.748457  "
      ]
     },
     "execution_count": 7,
     "metadata": {},
     "output_type": "execute_result"
    }
   ],
   "source": [
    "X.head(3)"
   ]
  },
  {
   "cell_type": "code",
   "execution_count": 8,
   "id": "631024de-bed0-4455-ab6d-ad1cde83482b",
   "metadata": {},
   "outputs": [
    {
     "data": {
      "text/plain": [
       "DT\n",
       "2019-01-16 13:21:00    0.0\n",
       "2019-01-16 13:21:10    0.0\n",
       "2019-01-16 13:21:20    0.0\n",
       "2019-01-16 13:21:30    0.0\n",
       "2019-01-16 13:21:40    0.0\n",
       "Name: Y_ЭКСГАУСТЕР А/М №4_ПОДШИПНИК ОПОРНЫЙ ЭКСГ. №4, dtype: float64"
      ]
     },
     "execution_count": 8,
     "metadata": {},
     "output_type": "execute_result"
    }
   ],
   "source": [
    "y = y.squeeze()  # Series\n",
    "y.head()"
   ]
  },
  {
   "cell_type": "code",
   "execution_count": 9,
   "id": "428f2f3c",
   "metadata": {},
   "outputs": [
    {
     "name": "stdout",
     "output_type": "stream",
     "text": [
      "(3027868, 6)\n",
      "(4008961, 6)\n",
      "(3027868,)\n"
     ]
    }
   ],
   "source": [
    "print(X.shape)\n",
    "print(X_test.shape)\n",
    "print(y.shape)"
   ]
  },
  {
   "cell_type": "code",
   "execution_count": 10,
   "id": "6eb0beef",
   "metadata": {},
   "outputs": [
    {
     "name": "stdout",
     "output_type": "stream",
     "text": [
      "Y_ЭКСГАУСТЕР А/М №4_ПОДШИПНИК ОПОРНЫЙ ЭКСГ. №4\n",
      "0.0    2266719\n",
      "2.0     233281\n",
      "Name: count, dtype: int64\n",
      "Y_ЭКСГАУСТЕР А/М №4_ПОДШИПНИК ОПОРНЫЙ ЭКСГ. №4\n",
      "2.0    311509\n",
      "0.0    216359\n",
      "Name: count, dtype: int64\n"
     ]
    }
   ],
   "source": [
    "# Масштабирование\n",
    "scaler = MinMaxScaler()\n",
    "\n",
    "#X_norm = scaler.fit_transform(np.array(X).reshape(-1, 1)).flatten()\n",
    "X_norm = scaler.fit_transform(X)\n",
    "X_test_norm = scaler.transform(X_test)\n",
    "\n",
    "X_train = X_norm[:2500000]\n",
    "y_train = y[0:2500000]\n",
    "\n",
    "X_val = X_norm[2500000:]\n",
    "y_val = y[2500000:]\n",
    "\n",
    "print(y_train.value_counts())\n",
    "print(y_val.value_counts())"
   ]
  },
  {
   "cell_type": "code",
   "execution_count": 11,
   "id": "40b4c10a-d854-41af-9325-ef36694d0110",
   "metadata": {},
   "outputs": [
    {
     "name": "stdout",
     "output_type": "stream",
     "text": [
      "(2500000, 6)\n",
      "(2500000,)\n",
      "(527868, 6)\n",
      "(527868,)\n"
     ]
    }
   ],
   "source": [
    "print(X_train.shape)\n",
    "print(y_train.shape)\n",
    "print(X_val.shape)\n",
    "print(y_val.shape)"
   ]
  },
  {
   "cell_type": "code",
   "execution_count": 12,
   "id": "f8ecdf3a",
   "metadata": {},
   "outputs": [
    {
     "name": "stdout",
     "output_type": "stream",
     "text": [
      "(624993, 30, 6)\n",
      "(624993,)\n",
      "После преобразования в формат TensorFlow:\n",
      "(624993, 30, 6)\n",
      "(624993, 3)\n",
      "(131960, 30, 6)\n",
      "(131960, 3)\n",
      "(1002233, 30, 6)\n"
     ]
    }
   ],
   "source": [
    "\n",
    "# Создаем набор данных с окнами\n",
    "X_train_window, y_train_window = create_sliding_window(X_train, y_train, window_size, shift=shift)\n",
    "X_val_window, y_val_window = create_sliding_window(X_val, y_val, window_size, shift=shift)\n",
    "X_test_window, _ = create_sliding_window(X_test_norm, window_size=window_size, shift=shift)\n",
    "\n",
    "print(X_train_window.shape)\n",
    "print(y_train_window.shape)\n",
    "\n",
    "# Кодирование\n",
    "y_train_encoded = to_categorical(y_train_window, num_classes=3)\n",
    "y_val_encoded = to_categorical(y_val_window, num_classes=3)\n",
    "\n",
    "# Зачем\n",
    "# Преобразуем в формат TensorFlow\n",
    "X_train_window = tf.convert_to_tensor(X_train_window)\n",
    "y_train_window = tf.convert_to_tensor(y_train_encoded)\n",
    "X_val_window = tf.convert_to_tensor(X_val_window)\n",
    "y_val_window = tf.convert_to_tensor(y_val_encoded)\n",
    "X_test_window = tf.convert_to_tensor(X_test_window)\n",
    "\n",
    "print('После преобразования в формат TensorFlow:')\n",
    "print(X_train_window.shape)\n",
    "print(y_train_window.shape)\n",
    "print(X_val_window.shape)\n",
    "print(y_val_window.shape)\n",
    "print(X_test_window.shape)\n"
   ]
  },
  {
   "cell_type": "markdown",
   "id": "3cd81c8e-7cca-4456-af06-431aaa93bf3e",
   "metadata": {},
   "source": [
    "  "
   ]
  },
  {
   "cell_type": "code",
   "execution_count": 13,
   "id": "ea3d642a-2e20-412b-b668-9e1fd9c60537",
   "metadata": {},
   "outputs": [],
   "source": [
    "input_dim = X_train_window.shape[2]"
   ]
  },
  {
   "cell_type": "code",
   "execution_count": 14,
   "id": "0766ed07",
   "metadata": {},
   "outputs": [],
   "source": [
    "# Модель\n",
    "model = tf.keras.Sequential([\n",
    "    layers.Conv1D(32, kernel_size=5, activation='relu', input_shape=(window_size, input_dim)),\n",
    "    layers.Conv1D(32, kernel_size=5, activation='relu'),\n",
    "    layers.MaxPooling1D(pool_size=3),\n",
    "    layers.LSTM(64),    # return_sequences, return_state\n",
    "    layers.Dropout(0.2),\n",
    "    layers.Dense(64),\n",
    "    layers.Dense(3, activation='softmax')\n",
    "])\n",
    "\n",
    "model.compile(optimizer='adam', loss='categorical_crossentropy', metrics=['accuracy'])\n"
   ]
  },
  {
   "cell_type": "code",
   "execution_count": 15,
   "id": "ac850a55",
   "metadata": {},
   "outputs": [
    {
     "name": "stdout",
     "output_type": "stream",
     "text": [
      "Model: \"sequential\"\n",
      "_________________________________________________________________\n",
      " Layer (type)                Output Shape              Param #   \n",
      "=================================================================\n",
      " conv1d (Conv1D)             (None, 26, 32)            992       \n",
      "                                                                 \n",
      " conv1d_1 (Conv1D)           (None, 22, 32)            5152      \n",
      "                                                                 \n",
      " max_pooling1d (MaxPooling1D  (None, 7, 32)            0         \n",
      " )                                                               \n",
      "                                                                 \n",
      " lstm (LSTM)                 (None, 64)                24832     \n",
      "                                                                 \n",
      " dropout (Dropout)           (None, 64)                0         \n",
      "                                                                 \n",
      " dense (Dense)               (None, 64)                4160      \n",
      "                                                                 \n",
      " dense_1 (Dense)             (None, 3)                 195       \n",
      "                                                                 \n",
      "=================================================================\n",
      "Total params: 35,331\n",
      "Trainable params: 35,331\n",
      "Non-trainable params: 0\n",
      "_________________________________________________________________\n"
     ]
    }
   ],
   "source": [
    "model.summary()"
   ]
  },
  {
   "cell_type": "markdown",
   "id": "16025688-f6bb-45a0-923a-fae0b51a9bff",
   "metadata": {},
   "source": [
    "  "
   ]
  },
  {
   "cell_type": "code",
   "execution_count": 16,
   "id": "d07fbe73-80ac-484d-b669-a2d9e97852f3",
   "metadata": {},
   "outputs": [
    {
     "name": "stdout",
     "output_type": "stream",
     "text": [
      "Epoch 1/50\n",
      "19532/19532 [==============================] - 134s 7ms/step - loss: 0.0067 - accuracy: 0.9992 - val_loss: 13.4315 - val_accuracy: 0.4099\n",
      "Epoch 2/50\n",
      "19532/19532 [==============================] - 130s 7ms/step - loss: 0.0089 - accuracy: 0.9992 - val_loss: 14.2816 - val_accuracy: 0.4099\n",
      "Epoch 3/50\n",
      "19532/19532 [==============================] - 129s 7ms/step - loss: 0.0083 - accuracy: 0.9993 - val_loss: 13.7536 - val_accuracy: 0.4099\n",
      "Epoch 4/50\n",
      "19532/19532 [==============================] - 130s 7ms/step - loss: 0.0079 - accuracy: 0.9992 - val_loss: 13.2445 - val_accuracy: 0.4099\n",
      "Epoch 5/50\n",
      "19532/19532 [==============================] - 130s 7ms/step - loss: 0.0098 - accuracy: 0.9991 - val_loss: 15.5661 - val_accuracy: 0.4099\n",
      "Epoch 6/50\n",
      "19532/19532 [==============================] - 132s 7ms/step - loss: 0.0123 - accuracy: 0.9990 - val_loss: 15.9694 - val_accuracy: 0.4099\n",
      "Epoch 7/50\n",
      "19532/19532 [==============================] - 136s 7ms/step - loss: 0.0167 - accuracy: 0.9987 - val_loss: 19.3350 - val_accuracy: 0.4099\n",
      "Epoch 8/50\n",
      "19532/19532 [==============================] - 137s 7ms/step - loss: 0.0169 - accuracy: 0.9988 - val_loss: 16.0585 - val_accuracy: 0.4099\n",
      "Epoch 9/50\n",
      "19532/19532 [==============================] - 137s 7ms/step - loss: 0.0163 - accuracy: 0.9986 - val_loss: 16.3519 - val_accuracy: 0.4099\n"
     ]
    }
   ],
   "source": [
    "# Обучение на объединенной выборке\n",
    "\n",
    "history = model.fit(X_train_window, y_train_window,\n",
    "                    epochs=50,\n",
    "                    shuffle=False,\n",
    "                    validation_data=(X_val_window, y_val_window),\n",
    "                    callbacks=[early_stop])"
   ]
  },
  {
   "cell_type": "code",
   "execution_count": 20,
   "id": "eb4e842b",
   "metadata": {},
   "outputs": [],
   "source": [
    "#tf.keras.models.save_model(model, '../../models/ex5_M3_X_10-15_for_y_5')"
   ]
  },
  {
   "cell_type": "markdown",
   "id": "b6d9986d-5706-48f4-9575-68ea9311f61b",
   "metadata": {},
   "source": [
    "  "
   ]
  },
  {
   "cell_type": "markdown",
   "id": "bc59dd7f-6463-43fe-a311-303c9cc732b9",
   "metadata": {},
   "source": [
    "Прогноз для файла X_test"
   ]
  },
  {
   "cell_type": "code",
   "execution_count": 17,
   "id": "e17e7b78",
   "metadata": {},
   "outputs": [
    {
     "name": "stdout",
     "output_type": "stream",
     "text": [
      "31320/31320 [==============================] - 75s 2ms/step\n",
      "(1002233, 3)\n",
      "(1002233,)\n"
     ]
    }
   ],
   "source": [
    "# X_test содержит интервалы с NaN\n",
    "pred_window = model.predict(X_test_window)\n",
    "print(pred_window.shape)\n",
    "\n",
    "# округление вероятности + декодирование (по индексам столбцов)\n",
    "pred_window = np.argmax(pred_window, axis=1)  \n",
    "print(pred_window.shape)"
   ]
  },
  {
   "cell_type": "code",
   "execution_count": 18,
   "id": "cae06843-1638-4e9f-a29f-c14dd387ac75",
   "metadata": {},
   "outputs": [
    {
     "data": {
      "text/plain": [
       "array([0], dtype=int64)"
      ]
     },
     "execution_count": 18,
     "metadata": {},
     "output_type": "execute_result"
    }
   ],
   "source": [
    "np.unique(pred_window)"
   ]
  },
  {
   "cell_type": "code",
   "execution_count": 17,
   "id": "b0bccd3b",
   "metadata": {},
   "outputs": [],
   "source": [
    "def restore_labels(y_window, window_size, shift=1):\n",
    "    \"\"\"\n",
    "    Восстанавливает массив меток исходной размерности из массива с окнами.\n",
    "    Значению присваивается метка из первого окна последовательности.\n",
    "    \n",
    "    \"\"\"\n",
    "    labels = []\n",
    "    \n",
    "    labels.extend([y_window[0]] * (window_size - shift))\n",
    "    \n",
    "    for i in range(len(y_window)):\n",
    "        labels.extend([y_window[i]] * shift)\n",
    "\n",
    "    return np.array(labels)"
   ]
  },
  {
   "cell_type": "code",
   "execution_count": 20,
   "id": "e1999f03-f1d5-43a3-8510-330d7ba4e1bc",
   "metadata": {},
   "outputs": [
    {
     "data": {
      "text/plain": [
       "(4008958,)"
      ]
     },
     "execution_count": 20,
     "metadata": {},
     "output_type": "execute_result"
    }
   ],
   "source": [
    "pred = restore_labels(pred_window, window_size=window_size, shift=shift)\n",
    "pred.shape   # X_test.shape = (4008961, 6)"
   ]
  },
  {
   "cell_type": "code",
   "execution_count": 22,
   "id": "0a463ffb-23a6-468e-9046-83189ff69a18",
   "metadata": {},
   "outputs": [
    {
     "data": {
      "text/plain": [
       "array([0, 0, 0, ..., 0, 0, 0], dtype=int64)"
      ]
     },
     "execution_count": 22,
     "metadata": {},
     "output_type": "execute_result"
    }
   ],
   "source": [
    "pred"
   ]
  },
  {
   "cell_type": "code",
   "execution_count": 31,
   "id": "68c95d35-246e-483c-a834-c82ec0e14f66",
   "metadata": {},
   "outputs": [
    {
     "name": "stdout",
     "output_type": "stream",
     "text": [
      "(4008961, 175)\n"
     ]
    },
    {
     "data": {
      "text/html": [
       "<div>\n",
       "<style scoped>\n",
       "    .dataframe tbody tr th:only-of-type {\n",
       "        vertical-align: middle;\n",
       "    }\n",
       "\n",
       "    .dataframe tbody tr th {\n",
       "        vertical-align: top;\n",
       "    }\n",
       "\n",
       "    .dataframe thead th {\n",
       "        text-align: right;\n",
       "    }\n",
       "</style>\n",
       "<table border=\"1\" class=\"dataframe\">\n",
       "  <thead>\n",
       "    <tr style=\"text-align: right;\">\n",
       "      <th></th>\n",
       "      <th>Y_ЭКСГАУСТЕР А/М №9_ЗАПОРНАЯ АРМАТУРА ЭКСГАУСТЕРА №9</th>\n",
       "      <th>Y_ЭКСГАУСТЕР А/М №9_МАСЛОСТАНЦИЯ ЖИДКОЙ СМАЗКИ ЭКСГ. №9</th>\n",
       "      <th>Y_ЭКСГАУСТЕР А/М №9_ЭЛЕКТРОАППАРАТУРА ЭКСГ. №9</th>\n",
       "      <th>Y_ЭКСГАУСТЕР А/М №9_КЛ1 ТР№9 ДО ЭД ЭКСГАУСТЕРА №9</th>\n",
       "      <th>Y_ЭКСГАУСТЕР А/М №9_ЭЛЕКТРОДВИГАТЕЛЬ ДСПУ-140-84-4 ЭКСГ. №9</th>\n",
       "      <th>Y_ЭКСГАУСТЕР А/М №9_КОРПУС ЭКСГ. №9</th>\n",
       "      <th>Y_ЭКСГАУСТЕР А/М №9_РЕДУКТОР ГАЗ. ЗАДВИЖКИ ЭКСГ. №9</th>\n",
       "      <th>Y_ЭКСГАУСТЕР А/М №9_МАСЛООХЛАДИТЕЛЬ  М-05-1 ЭКСГ. №9</th>\n",
       "      <th>Y_ЭКСГАУСТЕР А/М №9_ЭЛ/ДВИГАТЕЛЬ ГАЗ. ЗАДВИЖКИ ЭКСГ. №9</th>\n",
       "      <th>Y_ЭКСГАУСТЕР А/М №9_ЭЛЕКТРООБОРУДОВАНИЯ ЭКСГАУСТЕРА №9</th>\n",
       "      <th>...</th>\n",
       "      <th>Y_ЭКСГАУСТЕР А/М №6_ЭКСГАУСТЕР А/М №6</th>\n",
       "      <th>Y_ЭКСГАУСТЕР А/М №6_ПОДШИПНИК ОПОРНЫЙ ЭКСГ. №6</th>\n",
       "      <th>Y_ЭКСГАУСТЕР А/М №6_ТИРИСТОРНЫЙ ВОЗБУДИТЕЛЬ ТВ-400 ЭКСГ6 ВУ1</th>\n",
       "      <th>Y_ЭКСГАУСТЕР А/М №6_ДВИГАТЕЛЬ ПУСКОВОГО МАСЛОНАСОСА ЭКСГ. №6</th>\n",
       "      <th>Y_ЭКСГАУСТЕР А/М №6_МАСЛОНАСОС ШЕСТЕРЕНЧАТЫЙ (ПУСК.) ЭКСГ.№6</th>\n",
       "      <th>Y_ЭКСГАУСТЕР А/М №6_ВК 310С ВИБРОПРЕОБРАЗОВАТЕЛЬ ЭКСГ.№6 Т.3</th>\n",
       "      <th>Y_ЭКСГАУСТЕР А/М №6_МАСЛОПРОВОДЫ ЭКСГ №6</th>\n",
       "      <th>Y_ЭКСГАУСТЕР А/М №6_КЛ1 ТР№6 ДО ЭД ЭКСГАУСТЕРА №6</th>\n",
       "      <th>Y_ЭКСГАУСТЕР А/М №6_КЛ2 ТР№6 ДО ЭД ЭКСГАУСТЕРА №6</th>\n",
       "      <th>Y_ЭКСГАУСТЕР А/М №6_ВК 310С ВИБРОПРЕОБРАЗОВАТЕЛЬ ЭКСГ.№6 Т.2</th>\n",
       "    </tr>\n",
       "    <tr>\n",
       "      <th>index</th>\n",
       "      <th></th>\n",
       "      <th></th>\n",
       "      <th></th>\n",
       "      <th></th>\n",
       "      <th></th>\n",
       "      <th></th>\n",
       "      <th></th>\n",
       "      <th></th>\n",
       "      <th></th>\n",
       "      <th></th>\n",
       "      <th></th>\n",
       "      <th></th>\n",
       "      <th></th>\n",
       "      <th></th>\n",
       "      <th></th>\n",
       "      <th></th>\n",
       "      <th></th>\n",
       "      <th></th>\n",
       "      <th></th>\n",
       "      <th></th>\n",
       "      <th></th>\n",
       "    </tr>\n",
       "  </thead>\n",
       "  <tbody>\n",
       "    <tr>\n",
       "      <th>2022-01-01 00:00:00</th>\n",
       "      <td>0</td>\n",
       "      <td>0</td>\n",
       "      <td>0</td>\n",
       "      <td>0</td>\n",
       "      <td>0</td>\n",
       "      <td>0</td>\n",
       "      <td>0</td>\n",
       "      <td>0</td>\n",
       "      <td>0</td>\n",
       "      <td>0</td>\n",
       "      <td>...</td>\n",
       "      <td>0</td>\n",
       "      <td>0</td>\n",
       "      <td>0</td>\n",
       "      <td>0</td>\n",
       "      <td>0</td>\n",
       "      <td>0</td>\n",
       "      <td>0</td>\n",
       "      <td>0</td>\n",
       "      <td>0</td>\n",
       "      <td>0</td>\n",
       "    </tr>\n",
       "    <tr>\n",
       "      <th>2022-01-01 00:00:10</th>\n",
       "      <td>0</td>\n",
       "      <td>0</td>\n",
       "      <td>0</td>\n",
       "      <td>0</td>\n",
       "      <td>0</td>\n",
       "      <td>0</td>\n",
       "      <td>0</td>\n",
       "      <td>0</td>\n",
       "      <td>0</td>\n",
       "      <td>0</td>\n",
       "      <td>...</td>\n",
       "      <td>0</td>\n",
       "      <td>0</td>\n",
       "      <td>0</td>\n",
       "      <td>0</td>\n",
       "      <td>0</td>\n",
       "      <td>0</td>\n",
       "      <td>0</td>\n",
       "      <td>0</td>\n",
       "      <td>0</td>\n",
       "      <td>0</td>\n",
       "    </tr>\n",
       "    <tr>\n",
       "      <th>2022-01-01 00:00:20</th>\n",
       "      <td>0</td>\n",
       "      <td>0</td>\n",
       "      <td>0</td>\n",
       "      <td>0</td>\n",
       "      <td>0</td>\n",
       "      <td>0</td>\n",
       "      <td>0</td>\n",
       "      <td>0</td>\n",
       "      <td>0</td>\n",
       "      <td>0</td>\n",
       "      <td>...</td>\n",
       "      <td>0</td>\n",
       "      <td>0</td>\n",
       "      <td>0</td>\n",
       "      <td>0</td>\n",
       "      <td>0</td>\n",
       "      <td>0</td>\n",
       "      <td>0</td>\n",
       "      <td>0</td>\n",
       "      <td>0</td>\n",
       "      <td>0</td>\n",
       "    </tr>\n",
       "    <tr>\n",
       "      <th>2022-01-01 00:00:30</th>\n",
       "      <td>0</td>\n",
       "      <td>0</td>\n",
       "      <td>0</td>\n",
       "      <td>0</td>\n",
       "      <td>0</td>\n",
       "      <td>0</td>\n",
       "      <td>0</td>\n",
       "      <td>0</td>\n",
       "      <td>0</td>\n",
       "      <td>0</td>\n",
       "      <td>...</td>\n",
       "      <td>0</td>\n",
       "      <td>0</td>\n",
       "      <td>0</td>\n",
       "      <td>0</td>\n",
       "      <td>0</td>\n",
       "      <td>0</td>\n",
       "      <td>0</td>\n",
       "      <td>0</td>\n",
       "      <td>0</td>\n",
       "      <td>0</td>\n",
       "    </tr>\n",
       "    <tr>\n",
       "      <th>2022-01-01 00:00:40</th>\n",
       "      <td>0</td>\n",
       "      <td>0</td>\n",
       "      <td>0</td>\n",
       "      <td>0</td>\n",
       "      <td>0</td>\n",
       "      <td>0</td>\n",
       "      <td>0</td>\n",
       "      <td>0</td>\n",
       "      <td>0</td>\n",
       "      <td>0</td>\n",
       "      <td>...</td>\n",
       "      <td>0</td>\n",
       "      <td>0</td>\n",
       "      <td>0</td>\n",
       "      <td>0</td>\n",
       "      <td>0</td>\n",
       "      <td>0</td>\n",
       "      <td>0</td>\n",
       "      <td>0</td>\n",
       "      <td>0</td>\n",
       "      <td>0</td>\n",
       "    </tr>\n",
       "  </tbody>\n",
       "</table>\n",
       "<p>5 rows × 175 columns</p>\n",
       "</div>"
      ],
      "text/plain": [
       "                     Y_ЭКСГАУСТЕР А/М №9_ЗАПОРНАЯ АРМАТУРА ЭКСГАУСТЕРА №9   \n",
       "index                                                                       \n",
       "2022-01-01 00:00:00                                                  0     \\\n",
       "2022-01-01 00:00:10                                                  0      \n",
       "2022-01-01 00:00:20                                                  0      \n",
       "2022-01-01 00:00:30                                                  0      \n",
       "2022-01-01 00:00:40                                                  0      \n",
       "\n",
       "                     Y_ЭКСГАУСТЕР А/М №9_МАСЛОСТАНЦИЯ ЖИДКОЙ СМАЗКИ ЭКСГ. №9   \n",
       "index                                                                          \n",
       "2022-01-01 00:00:00                                                  0        \\\n",
       "2022-01-01 00:00:10                                                  0         \n",
       "2022-01-01 00:00:20                                                  0         \n",
       "2022-01-01 00:00:30                                                  0         \n",
       "2022-01-01 00:00:40                                                  0         \n",
       "\n",
       "                     Y_ЭКСГАУСТЕР А/М №9_ЭЛЕКТРОАППАРАТУРА ЭКСГ. №9   \n",
       "index                                                                 \n",
       "2022-01-01 00:00:00                                               0  \\\n",
       "2022-01-01 00:00:10                                               0   \n",
       "2022-01-01 00:00:20                                               0   \n",
       "2022-01-01 00:00:30                                               0   \n",
       "2022-01-01 00:00:40                                               0   \n",
       "\n",
       "                     Y_ЭКСГАУСТЕР А/М №9_КЛ1 ТР№9 ДО ЭД ЭКСГАУСТЕРА №9   \n",
       "index                                                                    \n",
       "2022-01-01 00:00:00                                                  0  \\\n",
       "2022-01-01 00:00:10                                                  0   \n",
       "2022-01-01 00:00:20                                                  0   \n",
       "2022-01-01 00:00:30                                                  0   \n",
       "2022-01-01 00:00:40                                                  0   \n",
       "\n",
       "                     Y_ЭКСГАУСТЕР А/М №9_ЭЛЕКТРОДВИГАТЕЛЬ ДСПУ-140-84-4 ЭКСГ. №9   \n",
       "index                                                                              \n",
       "2022-01-01 00:00:00                                                  0            \\\n",
       "2022-01-01 00:00:10                                                  0             \n",
       "2022-01-01 00:00:20                                                  0             \n",
       "2022-01-01 00:00:30                                                  0             \n",
       "2022-01-01 00:00:40                                                  0             \n",
       "\n",
       "                     Y_ЭКСГАУСТЕР А/М №9_КОРПУС ЭКСГ. №9   \n",
       "index                                                      \n",
       "2022-01-01 00:00:00                                    0  \\\n",
       "2022-01-01 00:00:10                                    0   \n",
       "2022-01-01 00:00:20                                    0   \n",
       "2022-01-01 00:00:30                                    0   \n",
       "2022-01-01 00:00:40                                    0   \n",
       "\n",
       "                     Y_ЭКСГАУСТЕР А/М №9_РЕДУКТОР ГАЗ. ЗАДВИЖКИ ЭКСГ. №9   \n",
       "index                                                                      \n",
       "2022-01-01 00:00:00                                                  0    \\\n",
       "2022-01-01 00:00:10                                                  0     \n",
       "2022-01-01 00:00:20                                                  0     \n",
       "2022-01-01 00:00:30                                                  0     \n",
       "2022-01-01 00:00:40                                                  0     \n",
       "\n",
       "                     Y_ЭКСГАУСТЕР А/М №9_МАСЛООХЛАДИТЕЛЬ  М-05-1 ЭКСГ. №9   \n",
       "index                                                                       \n",
       "2022-01-01 00:00:00                                                  0     \\\n",
       "2022-01-01 00:00:10                                                  0      \n",
       "2022-01-01 00:00:20                                                  0      \n",
       "2022-01-01 00:00:30                                                  0      \n",
       "2022-01-01 00:00:40                                                  0      \n",
       "\n",
       "                     Y_ЭКСГАУСТЕР А/М №9_ЭЛ/ДВИГАТЕЛЬ ГАЗ. ЗАДВИЖКИ ЭКСГ. №9   \n",
       "index                                                                          \n",
       "2022-01-01 00:00:00                                                  0        \\\n",
       "2022-01-01 00:00:10                                                  0         \n",
       "2022-01-01 00:00:20                                                  0         \n",
       "2022-01-01 00:00:30                                                  0         \n",
       "2022-01-01 00:00:40                                                  0         \n",
       "\n",
       "                     Y_ЭКСГАУСТЕР А/М №9_ЭЛЕКТРООБОРУДОВАНИЯ ЭКСГАУСТЕРА №9   \n",
       "index                                                                         \n",
       "2022-01-01 00:00:00                                                  0       \\\n",
       "2022-01-01 00:00:10                                                  0        \n",
       "2022-01-01 00:00:20                                                  0        \n",
       "2022-01-01 00:00:30                                                  0        \n",
       "2022-01-01 00:00:40                                                  0        \n",
       "\n",
       "                     ...  Y_ЭКСГАУСТЕР А/М №6_ЭКСГАУСТЕР А/М №6   \n",
       "index                ...                                          \n",
       "2022-01-01 00:00:00  ...                                      0  \\\n",
       "2022-01-01 00:00:10  ...                                      0   \n",
       "2022-01-01 00:00:20  ...                                      0   \n",
       "2022-01-01 00:00:30  ...                                      0   \n",
       "2022-01-01 00:00:40  ...                                      0   \n",
       "\n",
       "                     Y_ЭКСГАУСТЕР А/М №6_ПОДШИПНИК ОПОРНЫЙ ЭКСГ. №6   \n",
       "index                                                                 \n",
       "2022-01-01 00:00:00                                               0  \\\n",
       "2022-01-01 00:00:10                                               0   \n",
       "2022-01-01 00:00:20                                               0   \n",
       "2022-01-01 00:00:30                                               0   \n",
       "2022-01-01 00:00:40                                               0   \n",
       "\n",
       "                     Y_ЭКСГАУСТЕР А/М №6_ТИРИСТОРНЫЙ ВОЗБУДИТЕЛЬ ТВ-400 ЭКСГ6 ВУ1   \n",
       "index                                                                               \n",
       "2022-01-01 00:00:00                                                  0             \\\n",
       "2022-01-01 00:00:10                                                  0              \n",
       "2022-01-01 00:00:20                                                  0              \n",
       "2022-01-01 00:00:30                                                  0              \n",
       "2022-01-01 00:00:40                                                  0              \n",
       "\n",
       "                     Y_ЭКСГАУСТЕР А/М №6_ДВИГАТЕЛЬ ПУСКОВОГО МАСЛОНАСОСА ЭКСГ. №6   \n",
       "index                                                                               \n",
       "2022-01-01 00:00:00                                                  0             \\\n",
       "2022-01-01 00:00:10                                                  0              \n",
       "2022-01-01 00:00:20                                                  0              \n",
       "2022-01-01 00:00:30                                                  0              \n",
       "2022-01-01 00:00:40                                                  0              \n",
       "\n",
       "                     Y_ЭКСГАУСТЕР А/М №6_МАСЛОНАСОС ШЕСТЕРЕНЧАТЫЙ (ПУСК.) ЭКСГ.№6   \n",
       "index                                                                               \n",
       "2022-01-01 00:00:00                                                  0             \\\n",
       "2022-01-01 00:00:10                                                  0              \n",
       "2022-01-01 00:00:20                                                  0              \n",
       "2022-01-01 00:00:30                                                  0              \n",
       "2022-01-01 00:00:40                                                  0              \n",
       "\n",
       "                     Y_ЭКСГАУСТЕР А/М №6_ВК 310С ВИБРОПРЕОБРАЗОВАТЕЛЬ ЭКСГ.№6 Т.3   \n",
       "index                                                                               \n",
       "2022-01-01 00:00:00                                                  0             \\\n",
       "2022-01-01 00:00:10                                                  0              \n",
       "2022-01-01 00:00:20                                                  0              \n",
       "2022-01-01 00:00:30                                                  0              \n",
       "2022-01-01 00:00:40                                                  0              \n",
       "\n",
       "                     Y_ЭКСГАУСТЕР А/М №6_МАСЛОПРОВОДЫ ЭКСГ №6   \n",
       "index                                                           \n",
       "2022-01-01 00:00:00                                         0  \\\n",
       "2022-01-01 00:00:10                                         0   \n",
       "2022-01-01 00:00:20                                         0   \n",
       "2022-01-01 00:00:30                                         0   \n",
       "2022-01-01 00:00:40                                         0   \n",
       "\n",
       "                     Y_ЭКСГАУСТЕР А/М №6_КЛ1 ТР№6 ДО ЭД ЭКСГАУСТЕРА №6   \n",
       "index                                                                    \n",
       "2022-01-01 00:00:00                                                  0  \\\n",
       "2022-01-01 00:00:10                                                  0   \n",
       "2022-01-01 00:00:20                                                  0   \n",
       "2022-01-01 00:00:30                                                  0   \n",
       "2022-01-01 00:00:40                                                  0   \n",
       "\n",
       "                     Y_ЭКСГАУСТЕР А/М №6_КЛ2 ТР№6 ДО ЭД ЭКСГАУСТЕРА №6   \n",
       "index                                                                    \n",
       "2022-01-01 00:00:00                                                  0  \\\n",
       "2022-01-01 00:00:10                                                  0   \n",
       "2022-01-01 00:00:20                                                  0   \n",
       "2022-01-01 00:00:30                                                  0   \n",
       "2022-01-01 00:00:40                                                  0   \n",
       "\n",
       "                     Y_ЭКСГАУСТЕР А/М №6_ВК 310С ВИБРОПРЕОБРАЗОВАТЕЛЬ ЭКСГ.№6 Т.2  \n",
       "index                                                                              \n",
       "2022-01-01 00:00:00                                                  0             \n",
       "2022-01-01 00:00:10                                                  0             \n",
       "2022-01-01 00:00:20                                                  0             \n",
       "2022-01-01 00:00:30                                                  0             \n",
       "2022-01-01 00:00:40                                                  0             \n",
       "\n",
       "[5 rows x 175 columns]"
      ]
     },
     "execution_count": 31,
     "metadata": {},
     "output_type": "execute_result"
    }
   ],
   "source": [
    "sub_2 = pd.read_parquet('../../results/submission_2.parquet')\n",
    "print(sub_2.shape)\n",
    "sub_2.head()"
   ]
  },
  {
   "cell_type": "code",
   "execution_count": 1,
   "id": "3cdb4ed9-d08e-4b2e-88ab-c18c3f1c8646",
   "metadata": {},
   "outputs": [
    {
     "ename": "NameError",
     "evalue": "name 'sub_2' is not defined",
     "output_type": "error",
     "traceback": [
      "\u001b[1;31m---------------------------------------------------------------------------\u001b[0m",
      "\u001b[1;31mNameError\u001b[0m                                 Traceback (most recent call last)",
      "Cell \u001b[1;32mIn[1], line 2\u001b[0m\n\u001b[0;32m      1\u001b[0m \u001b[38;5;66;03m# Предсказанные данные подставляем в файл и сохраняем\u001b[39;00m\n\u001b[1;32m----> 2\u001b[0m col_index \u001b[38;5;241m=\u001b[39m \u001b[43msub_2\u001b[49m\u001b[38;5;241m.\u001b[39mcolumns\u001b[38;5;241m.\u001b[39mget_loc(y\u001b[38;5;241m.\u001b[39mname)\n\u001b[0;32m      3\u001b[0m sub_2\u001b[38;5;241m.\u001b[39miloc[:\u001b[38;5;28mlen\u001b[39m(pred), col_index] \u001b[38;5;241m=\u001b[39m pred\n\u001b[0;32m      5\u001b[0m sub_2[\u001b[38;5;124m'\u001b[39m\u001b[38;5;124mY_ЭКСГАУСТЕР А/М №5_ПОДШИПНИК ОПОРНЫЙ ЭКСГ. №5\u001b[39m\u001b[38;5;124m'\u001b[39m]\u001b[38;5;241m.\u001b[39mhead()\n",
      "\u001b[1;31mNameError\u001b[0m: name 'sub_2' is not defined"
     ]
    }
   ],
   "source": [
    "# Предсказанные данные подставляем в файл и сохраняем\n",
    "col_index = sub_2.columns.get_loc(y.name)\n",
    "sub_2.iloc[:len(pred), col_index] = pred\n",
    "\n",
    "sub_2['Y_ЭКСГАУСТЕР А/М №5_ПОДШИПНИК ОПОРНЫЙ ЭКСГ. №5'].head()"
   ]
  },
  {
   "cell_type": "code",
   "execution_count": 33,
   "id": "49f2e9f4-d1ce-4388-a627-52216e50dbae",
   "metadata": {},
   "outputs": [],
   "source": [
    "sub_2.to_parquet('../../results/submission_2.parquet')"
   ]
  },
  {
   "cell_type": "code",
   "execution_count": null,
   "id": "77ebd52e",
   "metadata": {},
   "outputs": [],
   "source": []
  }
 ],
 "metadata": {
  "kernelspec": {
   "display_name": "venv",
   "language": "python",
   "name": "venv"
  },
  "language_info": {
   "codemirror_mode": {
    "name": "ipython",
    "version": 3
   },
   "file_extension": ".py",
   "mimetype": "text/x-python",
   "name": "python",
   "nbconvert_exporter": "python",
   "pygments_lexer": "ipython3",
   "version": "3.10.5"
  }
 },
 "nbformat": 4,
 "nbformat_minor": 5
}
