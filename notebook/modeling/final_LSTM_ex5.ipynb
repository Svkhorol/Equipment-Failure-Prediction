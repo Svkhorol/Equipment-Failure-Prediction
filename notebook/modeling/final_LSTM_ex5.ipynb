{
 "cells": [
  {
   "cell_type": "code",
   "execution_count": 1,
   "id": "0312677c",
   "metadata": {},
   "outputs": [],
   "source": [
    "import mlflow\n",
    "import mlflow.tensorflow\n",
    "import numpy as np\n",
    "import pandas as pd\n",
    "import tensorflow as tf\n",
    "\n",
    "from sklearn.metrics import accuracy_score, f1_score\n",
    "from sklearn.preprocessing import MinMaxScaler\n",
    "from tensorflow.keras import layers\n",
    "from tensorflow.keras.callbacks import EarlyStopping\n"
   ]
  },
  {
   "cell_type": "markdown",
   "id": "fc7bd1f9-a5e0-4f55-84e0-09b02c1e5b46",
   "metadata": {},
   "source": [
    "Настройка MLflow"
   ]
  },
  {
   "cell_type": "code",
   "execution_count": 2,
   "id": "8f0284d0-eaad-469d-9c57-b2efe86bdfeb",
   "metadata": {},
   "outputs": [],
   "source": [
    "data_name = \"ex5_X_all_for_y_2,3,4\"\n",
    "model_name = \"LSTM_\"\n",
    "run_name =  model_name + data_name + \"_v.1\"\n",
    "\n",
    "# установка пути к хранилищу Mlflow\n",
    "mlflow.set_tracking_uri(\"file:///E:/Документы/Data Science/Projects/Equipment-Failure-Prediction/mlruns\")\n",
    "mlflow.set_experiment(\"Equipment-Failure-Prediction_M3\")\n",
    "\n",
    "def run_mlflow():\n",
    "    '''Function making one run in current experiment'''\n",
    "\n",
    "    mlflow.start_run(run_name=run_name)\n",
    "    mlflow.log_param(\"X_columns\", \"X_all_columns\")\n",
    "    mlflow.log_param(\"y_columns\", y.columns)\n",
    "    mlflow.log_param(\"split_date\", date)\n",
    "    mlflow.log_param(\"shuffle_in_model.fit\", shuffle)\n"
   ]
  },
  {
   "cell_type": "code",
   "execution_count": 3,
   "id": "160072a0-84ae-4e2f-a529-a0b075a72bc4",
   "metadata": {},
   "outputs": [],
   "source": [
    "#mlflow.end_run()\n",
    "#mlflow.active_run()"
   ]
  },
  {
   "cell_type": "markdown",
   "id": "4548b2bd-962c-4b5b-9d1f-9dba4ebb1a08",
   "metadata": {},
   "source": [
    "  "
   ]
  },
  {
   "cell_type": "code",
   "execution_count": 4,
   "id": "c2c97899",
   "metadata": {},
   "outputs": [],
   "source": [
    "#ЭКСГАУСТЕР №5\n",
    "X = pd.read_parquet('../../data/processed/ex5_M3_X_all_for_y_2,3,4.parquet')\n",
    "y = pd.read_parquet('../../data/processed/ex5_M3_y_2,3,4.parquet')"
   ]
  },
  {
   "cell_type": "code",
   "execution_count": 5,
   "id": "8a328728-ba72-4603-bb2c-22751f82ba9e",
   "metadata": {},
   "outputs": [
    {
     "data": {
      "text/html": [
       "<div>\n",
       "<style scoped>\n",
       "    .dataframe tbody tr th:only-of-type {\n",
       "        vertical-align: middle;\n",
       "    }\n",
       "\n",
       "    .dataframe tbody tr th {\n",
       "        vertical-align: top;\n",
       "    }\n",
       "\n",
       "    .dataframe thead th {\n",
       "        text-align: right;\n",
       "    }\n",
       "</style>\n",
       "<table border=\"1\" class=\"dataframe\">\n",
       "  <thead>\n",
       "    <tr style=\"text-align: right;\">\n",
       "      <th></th>\n",
       "      <th>ЭКСГАУСТЕР 5. ТОК РОТОРА 1</th>\n",
       "      <th>ЭКСГАУСТЕР 5. ТОК РОТОРА 2</th>\n",
       "      <th>ЭКСГАУСТЕР 5. ТОК СТАТОРА</th>\n",
       "      <th>ЭКСГАУСТЕР 5. ДАВЛЕНИЕ МАСЛА В СИСТЕМЕ</th>\n",
       "      <th>ЭКСГАУСТЕР 5. ТЕМПЕРАТУРА ПОДШИПНИКА НА ОПОРЕ 1</th>\n",
       "      <th>ЭКСГАУСТЕР 5. ТЕМПЕРАТУРА ПОДШИПНИКА НА ОПОРЕ 2</th>\n",
       "      <th>ЭКСГАУСТЕР 5. ТЕМПЕРАТУРА ПОДШИПНИКА НА ОПОРЕ 3</th>\n",
       "      <th>ЭКСГАУСТЕР 5. ТЕМПЕРАТУРА ПОДШИПНИКА НА ОПОРЕ 4</th>\n",
       "      <th>ЭКСГАУСТЕР 5. ТЕМПЕРАТУРА МАСЛА В СИСТЕМЕ</th>\n",
       "      <th>ЭКСГАУСТЕР 5. ТЕМПЕРАТУРА МАСЛА В МАСЛОБЛОКЕ</th>\n",
       "      <th>ЭКСГАУСТЕР 5. ВИБРАЦИЯ НА ОПОРЕ 1</th>\n",
       "      <th>ЭКСГАУСТЕР 5. ВИБРАЦИЯ НА ОПОРЕ 2</th>\n",
       "      <th>ЭКСГАУСТЕР 5. ВИБРАЦИЯ НА ОПОРЕ 3</th>\n",
       "      <th>ЭКСГАУСТЕР 5. ВИБРАЦИЯ НА ОПОРЕ 3. ПРОДОЛЬНАЯ.</th>\n",
       "      <th>ЭКСГАУСТЕР 5. ВИБРАЦИЯ НА ОПОРЕ 4</th>\n",
       "      <th>ЭКСГАУСТЕР 5. ВИБРАЦИЯ НА ОПОРЕ 4. ПРОДОЛЬНАЯ.</th>\n",
       "    </tr>\n",
       "    <tr>\n",
       "      <th>DT</th>\n",
       "      <th></th>\n",
       "      <th></th>\n",
       "      <th></th>\n",
       "      <th></th>\n",
       "      <th></th>\n",
       "      <th></th>\n",
       "      <th></th>\n",
       "      <th></th>\n",
       "      <th></th>\n",
       "      <th></th>\n",
       "      <th></th>\n",
       "      <th></th>\n",
       "      <th></th>\n",
       "      <th></th>\n",
       "      <th></th>\n",
       "      <th></th>\n",
       "    </tr>\n",
       "  </thead>\n",
       "  <tbody>\n",
       "    <tr>\n",
       "      <th>2019-01-16 13:21:00</th>\n",
       "      <td>1.085000</td>\n",
       "      <td>1.085000</td>\n",
       "      <td>110.895000</td>\n",
       "      <td>126.045000</td>\n",
       "      <td>28.390000</td>\n",
       "      <td>33.260000</td>\n",
       "      <td>34.070000</td>\n",
       "      <td>37.320000</td>\n",
       "      <td>26.770000</td>\n",
       "      <td>26.770000</td>\n",
       "      <td>0.030000</td>\n",
       "      <td>0.030000</td>\n",
       "      <td>0.060000</td>\n",
       "      <td>0.100000</td>\n",
       "      <td>0.050000</td>\n",
       "      <td>0.110000</td>\n",
       "    </tr>\n",
       "    <tr>\n",
       "      <th>2019-01-16 13:21:10</th>\n",
       "      <td>1.026476</td>\n",
       "      <td>1.026476</td>\n",
       "      <td>110.894090</td>\n",
       "      <td>126.346667</td>\n",
       "      <td>28.637719</td>\n",
       "      <td>33.180822</td>\n",
       "      <td>34.073210</td>\n",
       "      <td>37.399398</td>\n",
       "      <td>26.690681</td>\n",
       "      <td>25.960000</td>\n",
       "      <td>0.038194</td>\n",
       "      <td>0.043403</td>\n",
       "      <td>0.070313</td>\n",
       "      <td>0.093750</td>\n",
       "      <td>0.078125</td>\n",
       "      <td>0.112847</td>\n",
       "    </tr>\n",
       "    <tr>\n",
       "      <th>2019-01-16 13:21:20</th>\n",
       "      <td>1.036844</td>\n",
       "      <td>1.036844</td>\n",
       "      <td>110.860334</td>\n",
       "      <td>126.144540</td>\n",
       "      <td>28.394340</td>\n",
       "      <td>32.991527</td>\n",
       "      <td>34.253491</td>\n",
       "      <td>37.318270</td>\n",
       "      <td>26.771809</td>\n",
       "      <td>26.681666</td>\n",
       "      <td>0.032793</td>\n",
       "      <td>0.039545</td>\n",
       "      <td>0.072338</td>\n",
       "      <td>0.089699</td>\n",
       "      <td>0.064622</td>\n",
       "      <td>0.116705</td>\n",
       "    </tr>\n",
       "  </tbody>\n",
       "</table>\n",
       "</div>"
      ],
      "text/plain": [
       "                     ЭКСГАУСТЕР 5. ТОК РОТОРА 1  ЭКСГАУСТЕР 5. ТОК РОТОРА 2   \n",
       "DT                                                                            \n",
       "2019-01-16 13:21:00                    1.085000                    1.085000  \\\n",
       "2019-01-16 13:21:10                    1.026476                    1.026476   \n",
       "2019-01-16 13:21:20                    1.036844                    1.036844   \n",
       "\n",
       "                     ЭКСГАУСТЕР 5. ТОК СТАТОРА   \n",
       "DT                                               \n",
       "2019-01-16 13:21:00                 110.895000  \\\n",
       "2019-01-16 13:21:10                 110.894090   \n",
       "2019-01-16 13:21:20                 110.860334   \n",
       "\n",
       "                     ЭКСГАУСТЕР 5. ДАВЛЕНИЕ МАСЛА В СИСТЕМЕ   \n",
       "DT                                                            \n",
       "2019-01-16 13:21:00                              126.045000  \\\n",
       "2019-01-16 13:21:10                              126.346667   \n",
       "2019-01-16 13:21:20                              126.144540   \n",
       "\n",
       "                     ЭКСГАУСТЕР 5. ТЕМПЕРАТУРА ПОДШИПНИКА НА ОПОРЕ 1   \n",
       "DT                                                                     \n",
       "2019-01-16 13:21:00                                        28.390000  \\\n",
       "2019-01-16 13:21:10                                        28.637719   \n",
       "2019-01-16 13:21:20                                        28.394340   \n",
       "\n",
       "                     ЭКСГАУСТЕР 5. ТЕМПЕРАТУРА ПОДШИПНИКА НА ОПОРЕ 2   \n",
       "DT                                                                     \n",
       "2019-01-16 13:21:00                                        33.260000  \\\n",
       "2019-01-16 13:21:10                                        33.180822   \n",
       "2019-01-16 13:21:20                                        32.991527   \n",
       "\n",
       "                     ЭКСГАУСТЕР 5. ТЕМПЕРАТУРА ПОДШИПНИКА НА ОПОРЕ 3   \n",
       "DT                                                                     \n",
       "2019-01-16 13:21:00                                        34.070000  \\\n",
       "2019-01-16 13:21:10                                        34.073210   \n",
       "2019-01-16 13:21:20                                        34.253491   \n",
       "\n",
       "                     ЭКСГАУСТЕР 5. ТЕМПЕРАТУРА ПОДШИПНИКА НА ОПОРЕ 4   \n",
       "DT                                                                     \n",
       "2019-01-16 13:21:00                                        37.320000  \\\n",
       "2019-01-16 13:21:10                                        37.399398   \n",
       "2019-01-16 13:21:20                                        37.318270   \n",
       "\n",
       "                     ЭКСГАУСТЕР 5. ТЕМПЕРАТУРА МАСЛА В СИСТЕМЕ   \n",
       "DT                                                               \n",
       "2019-01-16 13:21:00                                  26.770000  \\\n",
       "2019-01-16 13:21:10                                  26.690681   \n",
       "2019-01-16 13:21:20                                  26.771809   \n",
       "\n",
       "                     ЭКСГАУСТЕР 5. ТЕМПЕРАТУРА МАСЛА В МАСЛОБЛОКЕ   \n",
       "DT                                                                  \n",
       "2019-01-16 13:21:00                                     26.770000  \\\n",
       "2019-01-16 13:21:10                                     25.960000   \n",
       "2019-01-16 13:21:20                                     26.681666   \n",
       "\n",
       "                     ЭКСГАУСТЕР 5. ВИБРАЦИЯ НА ОПОРЕ 1   \n",
       "DT                                                       \n",
       "2019-01-16 13:21:00                           0.030000  \\\n",
       "2019-01-16 13:21:10                           0.038194   \n",
       "2019-01-16 13:21:20                           0.032793   \n",
       "\n",
       "                     ЭКСГАУСТЕР 5. ВИБРАЦИЯ НА ОПОРЕ 2   \n",
       "DT                                                       \n",
       "2019-01-16 13:21:00                           0.030000  \\\n",
       "2019-01-16 13:21:10                           0.043403   \n",
       "2019-01-16 13:21:20                           0.039545   \n",
       "\n",
       "                     ЭКСГАУСТЕР 5. ВИБРАЦИЯ НА ОПОРЕ 3   \n",
       "DT                                                       \n",
       "2019-01-16 13:21:00                           0.060000  \\\n",
       "2019-01-16 13:21:10                           0.070313   \n",
       "2019-01-16 13:21:20                           0.072338   \n",
       "\n",
       "                     ЭКСГАУСТЕР 5. ВИБРАЦИЯ НА ОПОРЕ 3. ПРОДОЛЬНАЯ.   \n",
       "DT                                                                    \n",
       "2019-01-16 13:21:00                                        0.100000  \\\n",
       "2019-01-16 13:21:10                                        0.093750   \n",
       "2019-01-16 13:21:20                                        0.089699   \n",
       "\n",
       "                     ЭКСГАУСТЕР 5. ВИБРАЦИЯ НА ОПОРЕ 4   \n",
       "DT                                                       \n",
       "2019-01-16 13:21:00                           0.050000  \\\n",
       "2019-01-16 13:21:10                           0.078125   \n",
       "2019-01-16 13:21:20                           0.064622   \n",
       "\n",
       "                     ЭКСГАУСТЕР 5. ВИБРАЦИЯ НА ОПОРЕ 4. ПРОДОЛЬНАЯ.  \n",
       "DT                                                                   \n",
       "2019-01-16 13:21:00                                        0.110000  \n",
       "2019-01-16 13:21:10                                        0.112847  \n",
       "2019-01-16 13:21:20                                        0.116705  "
      ]
     },
     "execution_count": 5,
     "metadata": {},
     "output_type": "execute_result"
    }
   ],
   "source": [
    "X.head(3)"
   ]
  },
  {
   "cell_type": "code",
   "execution_count": 6,
   "id": "98db2b4e-fa94-41ec-9b81-fa9ea884d2c1",
   "metadata": {},
   "outputs": [
    {
     "data": {
      "text/plain": [
       "Index(['Y_ЭКСГАУСТЕР А/М №5_ЭЛЕКТРОДВИГАТЕЛЬ ДСПУ-140-84-4 ЭКСГ. №5',\n",
       "       'Y_ЭКСГАУСТЕР А/М №5_ЗАДВИЖКА ЭКСГ. №5',\n",
       "       'Y_ЭКСГАУСТЕР А/М №5_КОРПУС ЭКСГ. №5'],\n",
       "      dtype='object')"
      ]
     },
     "execution_count": 6,
     "metadata": {},
     "output_type": "execute_result"
    }
   ],
   "source": [
    "y.columns"
   ]
  },
  {
   "cell_type": "code",
   "execution_count": 7,
   "id": "428f2f3c",
   "metadata": {},
   "outputs": [
    {
     "name": "stdout",
     "output_type": "stream",
     "text": [
      "(7809631, 16)\n",
      "(7809631, 3)\n"
     ]
    }
   ],
   "source": [
    "print(X.shape)\n",
    "print(y.shape)"
   ]
  },
  {
   "cell_type": "code",
   "execution_count": 8,
   "id": "e531337f-faf8-446f-98d1-e83dd17c225f",
   "metadata": {},
   "outputs": [],
   "source": [
    "# Масштабирование  и разделение\n",
    "scaler = MinMaxScaler()\n",
    "X_norm = scaler.fit_transform(X)\n",
    "\n",
    "date = '2020-09-01 08:00:00'\n",
    "split_date = X.index.get_loc(date)\n",
    "\n",
    "X_train = X_norm[:split_date]\n",
    "y_train = y[:split_date]\n",
    "X_val = X_norm[split_date:]\n",
    "y_val = y[split_date:]\n"
   ]
  },
  {
   "cell_type": "code",
   "execution_count": 10,
   "id": "40b4c10a-d854-41af-9325-ef36694d0110",
   "metadata": {},
   "outputs": [
    {
     "name": "stdout",
     "output_type": "stream",
     "text": [
      "(5086168, 16)\n",
      "(5086168, 3)\n",
      "(2723463, 16)\n",
      "(2723463, 3)\n"
     ]
    }
   ],
   "source": [
    "print(X_train.shape)\n",
    "print(y_train.shape)\n",
    "print(X_val.shape)\n",
    "print(y_val.shape)"
   ]
  },
  {
   "cell_type": "code",
   "execution_count": 11,
   "id": "c75ec35a-d8e0-474d-bec4-a1bb17b0d63d",
   "metadata": {},
   "outputs": [
    {
     "name": "stdout",
     "output_type": "stream",
     "text": [
      "(5086168, 1, 16)\n",
      "(5086168, 3)\n",
      "(2723463, 1, 16)\n",
      "(2723463, 3)\n"
     ]
    }
   ],
   "source": [
    "# reshape for input \n",
    "timesteps = 1\n",
    "samples_train = int(np.floor(X_train.shape[0]/timesteps))\n",
    "samples_val = int(np.floor(X_val.shape[0]/timesteps))\n",
    "\n",
    "X_train = X_train.reshape(samples_train, timesteps, X_train.shape[1])   #samples, timesteps, sensors\n",
    "X_val = X_val.reshape(samples_val, timesteps, X_val.shape[1])\n",
    "\n",
    "print(X_train.shape)\n",
    "print(y_train.shape)\n",
    "print(X_val.shape)\n",
    "print(y_val.shape)"
   ]
  },
  {
   "cell_type": "code",
   "execution_count": 12,
   "id": "cde2e8a3-5d54-423b-882c-7340adab5d12",
   "metadata": {},
   "outputs": [],
   "source": [
    "del X, X_norm"
   ]
  },
  {
   "cell_type": "markdown",
   "id": "3cd81c8e-7cca-4456-af06-431aaa93bf3e",
   "metadata": {},
   "source": [
    "  "
   ]
  },
  {
   "cell_type": "code",
   "execution_count": 13,
   "id": "ea3d642a-2e20-412b-b668-9e1fd9c60537",
   "metadata": {},
   "outputs": [],
   "source": [
    "out = y_train.shape[1]\n",
    "shuffle = False\n",
    "batch_size = 32\n",
    "early_stop = EarlyStopping(monitor='val_loss', patience=5)"
   ]
  },
  {
   "cell_type": "code",
   "execution_count": 14,
   "id": "5a44a180-fb85-4771-be18-26d483d1dca2",
   "metadata": {},
   "outputs": [],
   "source": [
    "tf.keras.backend.clear_session()  # очищаем предыдушие следы модели"
   ]
  },
  {
   "cell_type": "code",
   "execution_count": 15,
   "id": "0766ed07",
   "metadata": {},
   "outputs": [
    {
     "name": "stdout",
     "output_type": "stream",
     "text": [
      "Model: \"sequential\"\n",
      "_________________________________________________________________\n",
      " Layer (type)                Output Shape              Param #   \n",
      "=================================================================\n",
      " lstm (LSTM)                 (None, 1, 64)             20736     \n",
      "                                                                 \n",
      " lstm_1 (LSTM)               (None, 64)                33024     \n",
      "                                                                 \n",
      " dense (Dense)               (None, 3)                 195       \n",
      "                                                                 \n",
      "=================================================================\n",
      "Total params: 53,955\n",
      "Trainable params: 53,955\n",
      "Non-trainable params: 0\n",
      "_________________________________________________________________\n"
     ]
    }
   ],
   "source": [
    "# Модель\n",
    "model = tf.keras.Sequential([\n",
    "    layers.LSTM(64, activation='relu', input_shape=(X_train.shape[1], X_train.shape[2]), return_sequences=True),\n",
    "    layers.LSTM(64, activation='relu'),\n",
    "    #layers.Dropout(0.2),\n",
    "    #layers.Dense(64),\n",
    "    layers.Dense(out, activation='sigmoid')\n",
    "])\n",
    "\n",
    "model.compile(optimizer='adam', loss='binary_crossentropy', metrics=['accuracy'])\n",
    "model.summary()"
   ]
  },
  {
   "cell_type": "code",
   "execution_count": 16,
   "id": "8e283ec8-ea23-422b-9d49-7f068f33894b",
   "metadata": {},
   "outputs": [
    {
     "name": "stdout",
     "output_type": "stream",
     "text": [
      "Epoch 1/10\n",
      "158943/158943 [==============================] - 518s 3ms/step - loss: 0.0208 - accuracy: 0.9899 - val_loss: 5.5950 - val_accuracy: 0.9839\n",
      "Epoch 2/10\n",
      "158943/158943 [==============================] - 519s 3ms/step - loss: 0.0275 - accuracy: 0.9962 - val_loss: 15.3448 - val_accuracy: 0.9839\n",
      "Epoch 3/10\n",
      "158943/158943 [==============================] - 520s 3ms/step - loss: 0.0144 - accuracy: 0.8967 - val_loss: 18.6017 - val_accuracy: 0.9839\n",
      "Epoch 4/10\n",
      "158943/158943 [==============================] - 527s 3ms/step - loss: 0.0234 - accuracy: 1.0000 - val_loss: 9.7568 - val_accuracy: 0.9839\n",
      "Epoch 5/10\n",
      "158943/158943 [==============================] - 531s 3ms/step - loss: 0.0248 - accuracy: 1.0000 - val_loss: 14.4260 - val_accuracy: 0.9839\n",
      "Epoch 6/10\n",
      "158943/158943 [==============================] - 532s 3ms/step - loss: 0.0355 - accuracy: 1.0000 - val_loss: 7.9074 - val_accuracy: 0.9839\n"
     ]
    }
   ],
   "source": [
    "run_mlflow()\n",
    "\n",
    "# Обучение на объединенной выборке\n",
    "history = model.fit(X_train, y_train,\n",
    "                    epochs=10,\n",
    "                    #batch_size=batch_size,\n",
    "                    shuffle=shuffle,  #False\n",
    "                    validation_data=(X_val, y_val),\n",
    "                    callbacks=[early_stop])"
   ]
  },
  {
   "cell_type": "markdown",
   "id": "277446e3-12a1-4eac-9568-0cf422d63b92",
   "metadata": {},
   "source": [
    "  "
   ]
  },
  {
   "cell_type": "markdown",
   "id": "873e03f1-3527-41d6-9560-caf26afdbb0b",
   "metadata": {},
   "source": [
    "Результаты прогноза"
   ]
  },
  {
   "cell_type": "code",
   "execution_count": 17,
   "id": "03a1782c-53a4-474e-857a-a0b8726b46c4",
   "metadata": {},
   "outputs": [
    {
     "name": "stdout",
     "output_type": "stream",
     "text": [
      "85109/85109 [==============================] - 115s 1ms/step\n"
     ]
    }
   ],
   "source": [
    "y_pred = model.predict(X_val)\n",
    "y_pred = np.round(y_pred)"
   ]
  },
  {
   "cell_type": "code",
   "execution_count": 18,
   "id": "4e462e01-8ce2-489a-92e8-6e9c2fd771bc",
   "metadata": {},
   "outputs": [
    {
     "name": "stdout",
     "output_type": "stream",
     "text": [
      "accuracy: 0.18063766608909318\n",
      "f1-score: 0.6779776124013905\n",
      "J-index Y_ЭКСГАУСТЕР А/М №5_ЭЛЕКТРОДВИГАТЕЛЬ ДСПУ-140-84-4 ЭКСГ. №5    0.751285\n",
      "Y_ЭКСГАУСТЕР А/М №5_ЗАДВИЖКА ЭКСГ. №5                          0.292904\n",
      "Y_ЭКСГАУСТЕР А/М №5_КОРПУС ЭКСГ. №5                            0.252876\n",
      "dtype: float64\n"
     ]
    }
   ],
   "source": [
    "accuracy = accuracy_score(y_val, y_pred)\n",
    "f1 = f1_score(y_val, y_pred, average='weighted')\n",
    "\n",
    "TP = ((y_pred == 1) * (y_val == 1)).sum()\n",
    "FP = ((y_pred == 1) * (y_val != 1)).sum()\n",
    "FN = ((y_pred != 1) * (y_val == 1)).sum()\n",
    "J = TP / (TP + FP + FN)\n",
    "\n",
    "print('accuracy:', accuracy)\n",
    "print('f1-score:', f1)\n",
    "print('J-index', J)"
   ]
  },
  {
   "cell_type": "code",
   "execution_count": 19,
   "id": "972a5c4a-2ab7-497f-b69d-dbbce6bb6ac4",
   "metadata": {},
   "outputs": [],
   "source": [
    "mlflow.log_metric(\"accuracy\", accuracy)\n",
    "mlflow.log_metric(\"f1-score\", f1)\n",
    "mlflow.log_metric(\"j-index\", J.mean())\n",
    "#mlflow.tensorflow.log_model(model, \"model\")\n",
    "mlflow.end_run()"
   ]
  },
  {
   "cell_type": "code",
   "execution_count": null,
   "id": "77ebd52e",
   "metadata": {},
   "outputs": [],
   "source": []
  }
 ],
 "metadata": {
  "kernelspec": {
   "display_name": "venv",
   "language": "python",
   "name": "venv"
  },
  "language_info": {
   "codemirror_mode": {
    "name": "ipython",
    "version": 3
   },
   "file_extension": ".py",
   "mimetype": "text/x-python",
   "name": "python",
   "nbconvert_exporter": "python",
   "pygments_lexer": "ipython3",
   "version": "3.10.5"
  }
 },
 "nbformat": 4,
 "nbformat_minor": 5
}
